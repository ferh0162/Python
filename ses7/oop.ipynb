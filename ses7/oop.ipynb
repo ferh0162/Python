{
 "cells": [
  {
   "cell_type": "markdown",
   "metadata": {},
   "source": [
    "## OOP"
   ]
  },
  {
   "cell_type": "markdown",
   "metadata": {},
   "source": [
    "### Decorators\n",
    "From last time"
   ]
  },
  {
   "cell_type": "code",
   "execution_count": 1,
   "metadata": {},
   "outputs": [],
   "source": [
    "from functools import reduce"
   ]
  },
  {
   "cell_type": "code",
   "execution_count": 2,
   "metadata": {},
   "outputs": [],
   "source": [
    "def error_handler(func):\n",
    "    def wrapper(*args):\n",
    "     if 0 in args:\n",
    "        return \"Error: Division by zero\"\n",
    "     if all(isinstance(i,int) for i in args):\n",
    "        return func(*args)\n",
    "     else:\n",
    "        return \"Error: Something went wrong\"    \n",
    "    return wrapper"
   ]
  },
  {
   "cell_type": "code",
   "execution_count": 3,
   "metadata": {},
   "outputs": [],
   "source": [
    "def add(*args):\n",
    "    return sum(args)\n",
    "\n",
    "def sub(*args):\n",
    "    return reduce(lambda x, y : x-y, args)\n",
    "\n",
    "def mul(*args):\n",
    "    return reduce(lambda x,y:x * y, args)\n",
    "\n",
    "@error_handler\n",
    "def div(*args):\n",
    "    return reduce(lambda x,y:x / y, args)\n",
    "  \n",
    "    "
   ]
  },
  {
   "cell_type": "code",
   "execution_count": 4,
   "metadata": {},
   "outputs": [
    {
     "data": {
      "text/plain": [
       "'Error: Division by zero'"
      ]
     },
     "execution_count": 4,
     "metadata": {},
     "output_type": "execute_result"
    }
   ],
   "source": [
    "div(5, 0)"
   ]
  },
  {
   "cell_type": "raw",
   "metadata": {},
   "source": [
    "if 0 in args[1:]:\n",
    "    return 'you can not divide by zero'\n",
    "if all(isinstance(i, int) for i in args): \n",
    "    return func(*args)\n",
    "else:\n",
    "    return 'Somethiing went wrong'"
   ]
  },
  {
   "cell_type": "markdown",
   "metadata": {},
   "source": [
    "## OOP"
   ]
  },
  {
   "cell_type": "code",
   "execution_count": 5,
   "metadata": {},
   "outputs": [],
   "source": [
    "class Car:\n",
    "\n",
    "    def __init__(self, *args):\n",
    "        if len(args) == 1:\n",
    "            self.brand = args[0]\n",
    "        elif len(args) == 2:    \n",
    "            self.brand = args[0]            \n",
    "            self.hk = args[1]\n",
    "    \n",
    "    def msg(self):\n",
    "        return f\"Hello, I am a {self.brand} car\"\n",
    "    \n",
    "    def ny_metode(self, x):\n",
    "        self.x = x\n",
    " "
   ]
  },
  {
   "cell_type": "code",
   "execution_count": 6,
   "metadata": {},
   "outputs": [],
   "source": [
    "car = Car('BMW')\n",
    "car2 = Car('Audi', 111)"
   ]
  },
  {
   "cell_type": "code",
   "execution_count": 7,
   "metadata": {},
   "outputs": [
    {
     "data": {
      "text/plain": [
       "111"
      ]
     },
     "execution_count": 7,
     "metadata": {},
     "output_type": "execute_result"
    }
   ],
   "source": [
    "car.brand\n",
    "car2.hk"
   ]
  },
  {
   "cell_type": "code",
   "execution_count": 8,
   "metadata": {},
   "outputs": [
    {
     "data": {
      "text/plain": [
       "'Hello, I am a BMW car'"
      ]
     },
     "execution_count": 8,
     "metadata": {},
     "output_type": "execute_result"
    }
   ],
   "source": [
    "car.msg()"
   ]
  },
  {
   "cell_type": "code",
   "execution_count": 9,
   "metadata": {},
   "outputs": [
    {
     "data": {
      "text/plain": [
       "'hello'"
      ]
     },
     "execution_count": 9,
     "metadata": {},
     "output_type": "execute_result"
    }
   ],
   "source": [
    "car.ny_metode(\"hello\")\n",
    "car.x"
   ]
  },
  {
   "cell_type": "code",
   "execution_count": 10,
   "metadata": {},
   "outputs": [
    {
     "data": {
      "text/plain": [
       "123"
      ]
     },
     "execution_count": 10,
     "metadata": {},
     "output_type": "execute_result"
    }
   ],
   "source": [
    "car.age = 123\n",
    "car.age"
   ]
  },
  {
   "cell_type": "markdown",
   "metadata": {},
   "source": [
    "EX 1: Bank Exercise\n"
   ]
  },
  {
   "cell_type": "code",
   "execution_count": 11,
   "metadata": {},
   "outputs": [
    {
     "name": "stdout",
     "output_type": "stream",
     "text": [
      "Customer Peter has 2 accounts\n"
     ]
    }
   ],
   "source": [
    "class Bank:\n",
    "    def __init__(self, *args):\n",
    "        self.accounts = []\n",
    "        \n",
    "    def add_account(self, account):\n",
    "        self.accounts.append(account)\n",
    "\n",
    "    def __str__(self):\n",
    "        return f\"Bank has {len(self.accounts)} accounts\"\n",
    "        \n",
    "\n",
    "class Account:\n",
    "    def __init__(self, *args):\n",
    "        self.balance = 0\n",
    "        self.owner = args[0]\n",
    "        self.bank = args[1]\n",
    "        self.bank.add_account(self)\n",
    "\n",
    "    \n",
    "class Customer:\n",
    "    def __init__(self, *args):\n",
    "        self.name = args[0]\n",
    "        self.accounts = []\n",
    "\n",
    "    def add_account(self, account):\n",
    "        self.accounts.append(account)\n",
    "\n",
    "    def __str__(self):\n",
    "        return f\"Customer {self.name} has {len(self.accounts)} accounts\"\n",
    "    \n",
    "    \n",
    "bank = Bank()\n",
    "customer = Customer(\"Peter\")\n",
    "account = Account(\"Peter\", bank)\n",
    "account2 = Account(\"Peter\", bank)\n",
    "\n",
    "\n",
    "customer.add_account(account)\n",
    "customer.add_account(account2)\n",
    "\n",
    "print(customer)\n",
    "\n",
    "\n"
   ]
  },
  {
   "cell_type": "markdown",
   "metadata": {},
   "source": [
    "Excercise 1a"
   ]
  },
  {
   "cell_type": "code",
   "execution_count": 12,
   "metadata": {},
   "outputs": [
    {
     "name": "stdout",
     "output_type": "stream",
     "text": [
      "Person: Peter Jensen Age: 23\n",
      "Address: Hovedgaden 12, København, Sjælland, 1234\n",
      "Hello, i am Peter Jensen, a student, and i am 23 years old\n"
     ]
    },
    {
     "ename": "NameError",
     "evalue": "name 'person' is not defined",
     "output_type": "error",
     "traceback": [
      "\u001b[0;31m---------------------------------------------------------------------------\u001b[0m",
      "\u001b[0;31mNameError\u001b[0m                                 Traceback (most recent call last)",
      "\u001b[1;32m/Users/frrt/VSCode/Python/fall2023-code-examples-from-teachings/ses7/oop.ipynb Cell 18\u001b[0m line \u001b[0;36m7\n\u001b[1;32m     <a href='vscode-notebook-cell:/Users/frrt/VSCode/Python/fall2023-code-examples-from-teachings/ses7/oop.ipynb#X24sZmlsZQ%3D%3D?line=71'>72</a>\u001b[0m \u001b[39mprint\u001b[39m(student\u001b[39m.\u001b[39maddress)\n\u001b[1;32m     <a href='vscode-notebook-cell:/Users/frrt/VSCode/Python/fall2023-code-examples-from-teachings/ses7/oop.ipynb#X24sZmlsZQ%3D%3D?line=73'>74</a>\u001b[0m student\u001b[39m.\u001b[39mintroduce_yourself()\n\u001b[0;32m---> <a href='vscode-notebook-cell:/Users/frrt/VSCode/Python/fall2023-code-examples-from-teachings/ses7/oop.ipynb#X24sZmlsZQ%3D%3D?line=74'>75</a>\u001b[0m person\u001b[39m.\u001b[39mintroduce_yourself()\n",
      "\u001b[0;31mNameError\u001b[0m: name 'person' is not defined"
     ]
    }
   ],
   "source": [
    "class Person:\n",
    "    def __init__(self, first_name, last_name, age):\n",
    "        self.first_name = first_name\n",
    "        self.last_name = last_name\n",
    "        self.age = age\n",
    "        self._password = None\n",
    "        self.address = None\n",
    "\n",
    "    def full_name(self):\n",
    "        return f\"{self.first_name} {self.last_name}\"\n",
    "    \n",
    "    def set_password(self, password):\n",
    "        self._password = password\n",
    "\n",
    "    def check_password(self, password):\n",
    "        if self._password == password:\n",
    "            return True\n",
    "        else:\n",
    "            return False\n",
    "    \n",
    "    def update_address(self, address):\n",
    "        if isinstance(address, Address):\n",
    "            self.address = address\n",
    "        else:\n",
    "            return \"Error: Not an address\"\n",
    "        \n",
    "    def __str__(self):\n",
    "        return f\"Full name: {self.full_name()}, age: {self.age}\"\n",
    "    \n",
    "    def introduce_yourself(self):\n",
    "        print(f\"Hello, i am {self.full_name()} and i am {self.age} years old\")\n",
    "\n",
    "\n",
    "class Student(Person):\n",
    "    def __init__(self, first_name, last_name, age, grades):\n",
    "        super().__init__(first_name, last_name, age)\n",
    "        self.grades = grades\n",
    "\n",
    "    def average_grades(self):\n",
    "        return sum(self.grades) / len(self.grades)\n",
    "    \n",
    "    def info(self):\n",
    "        return f\"Full name: {self.full_name()}, age: {self.age}, grades: {self.grades}\"\n",
    "    \n",
    "    def __str__(self):\n",
    "        return f\"Person: {self.full_name()} Age: {self.age}\"\n",
    "    \n",
    "    def introduce_yourself(self):\n",
    "        print(f\"Hello, i am {self.full_name()}, a student, and i am {self.age} years old\")\n",
    "    \n",
    "class Address:\n",
    "    def __init__(self, street, city, state, zipcode):\n",
    "        self.street = street\n",
    "        self.city = city\n",
    "        self.state = state\n",
    "        self.zipcode = zipcode\n",
    "    \n",
    "    def __str__(self):\n",
    "        return f\"Address: {self.street}, {self.city}, {self.state}, {self.zipcode}\"\n",
    "    \n",
    "student = Student(\"Peter\", \"Jensen\", 23, [7, 12, 10])\n",
    "student.average_grades()\n",
    "student.info()\n",
    "student.set_password(\"1234\")\n",
    "student.check_password(\"1111\")\n",
    "\n",
    "address = Address(\"Hovedgaden 12\", \"København\", \"Sjælland\", 1234)\n",
    "student.update_address(address)\n",
    "\n",
    "print(student)\n",
    "\n",
    "print(student.address)\n",
    "\n",
    "student.introduce_yourself()\n",
    "person.introduce_yourself()"
   ]
  },
  {
   "cell_type": "markdown",
   "metadata": {},
   "source": [
    "Angry Birds\n"
   ]
  },
  {
   "cell_type": "code",
   "execution_count": 13,
   "metadata": {},
   "outputs": [
    {
     "name": "stdout",
     "output_type": "stream",
     "text": [
      "\n",
      "        Commands:\n",
      "        M - Move Forward\n",
      "        L - Turn Left\n",
      "        R - Turn Right\n",
      "        Q - Quit\n",
      "        \n",
      "* * * * * * * * * *\n",
      "* * * * * * * * * *\n",
      "* * B * * * * * * *\n",
      "* * * * * * * * * *\n",
      "* * * * * * * * * *\n",
      "* * * * * * * * * *\n",
      "* * * * * * * * * *\n",
      "* * * * * P * * * *\n",
      "* * * * * * * * * *\n",
      "* * * * * * * * * *\n"
     ]
    }
   ],
   "source": []
  }
 ],
 "metadata": {
  "kernelspec": {
   "display_name": ".venv",
   "language": "python",
   "name": "python3"
  },
  "language_info": {
   "codemirror_mode": {
    "name": "ipython",
    "version": 3
   },
   "file_extension": ".py",
   "mimetype": "text/x-python",
   "name": "python",
   "nbconvert_exporter": "python",
   "pygments_lexer": "ipython3",
   "version": "3.11.4"
  }
 },
 "nbformat": 4,
 "nbformat_minor": 2
}
