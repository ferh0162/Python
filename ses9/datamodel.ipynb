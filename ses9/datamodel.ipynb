{
 "cells": [
  {
   "cell_type": "markdown",
   "metadata": {},
   "source": [
    "## Datamodel"
   ]
  },
  {
   "cell_type": "markdown",
   "metadata": {},
   "source": [
    "**Protocol:**    \n",
    "      \n",
    "**Top-level function or top-level syntax has a corosponding \\__method__()**\n"
   ]
  },
  {
   "cell_type": "markdown",
   "metadata": {},
   "source": [
    "Concepts:\n",
    "\n",
    "| Kolonne 1                | Kolonne 2                                  |\n",
    "|--------------------------|--------------------------------------------|\n",
    "| Datamodel methods        | All methods that starts and ends with a double underscore |\n",
    "| Top level functions  | Build in functions |\n",
    "| Top level syntax  | +,-,*,/ etc |"
   ]
  },
  {
   "cell_type": "markdown",
   "metadata": {},
   "source": []
  },
  {
   "cell_type": "markdown",
   "metadata": {},
   "source": [
    "### \\__init__()"
   ]
  },
  {
   "cell_type": "code",
   "execution_count": null,
   "metadata": {},
   "outputs": [],
   "source": []
  },
  {
   "cell_type": "markdown",
   "metadata": {},
   "source": [
    "### \\__repr__()"
   ]
  },
  {
   "cell_type": "code",
   "execution_count": null,
   "metadata": {},
   "outputs": [],
   "source": []
  },
  {
   "cell_type": "markdown",
   "metadata": {},
   "source": [
    "### \\__str__()"
   ]
  },
  {
   "cell_type": "code",
   "execution_count": null,
   "metadata": {},
   "outputs": [],
   "source": []
  },
  {
   "cell_type": "markdown",
   "metadata": {},
   "source": [
    "| \\__str__() | \\__repr__() |\n",
    "|------------|-------------|\n",
    "| str()      | repr()      |\n",
    "| print()    | the interpretor | "
   ]
  },
  {
   "cell_type": "markdown",
   "metadata": {},
   "source": [
    "### Arithmetic operators\n",
    "+, -, *, /  "
   ]
  },
  {
   "cell_type": "code",
   "execution_count": 35,
   "metadata": {},
   "outputs": [],
   "source": [
    "class Number:\n",
    "    def __init__(self, value):\n",
    "        self.value = value\n",
    "    \n",
    "    def __add__(self, other):\n",
    "        return Number(self.value+ other.value)\n",
    "    \n",
    "    def __mul__(self, other):\n",
    "        return Number(self.value * other.value)\n",
    "    \n",
    "    def __repr__(self):\n",
    "        return f'{self.__dict__}'\n",
    "\n",
    "num = Number(10)\n",
    "num2 = Number(10)"
   ]
  },
  {
   "cell_type": "code",
   "execution_count": 34,
   "metadata": {},
   "outputs": [
    {
     "data": {
      "text/plain": [
       "{'value': 30}"
      ]
     },
     "execution_count": 34,
     "metadata": {},
     "output_type": "execute_result"
    }
   ],
   "source": [
    "num + num2\n",
    "\n",
    "num*num2*num2"
   ]
  },
  {
   "cell_type": "markdown",
   "metadata": {},
   "source": [
    "### Indexed objects"
   ]
  },
  {
   "cell_type": "markdown",
   "metadata": {},
   "source": [
    "#### Deck of cards"
   ]
  },
  {
   "cell_type": "code",
   "execution_count": 88,
   "metadata": {},
   "outputs": [],
   "source": [
    "class Deck:\n",
    "    def __init__(self):\n",
    "        self.cards = ['A', 'K', 4, 7]\n",
    "\n",
    "    def __getitem__(self,key):\n",
    "        return self.cards[key]\n",
    "    \n",
    "    def __setitem__(self, key, value):\n",
    "        self.cards[key] = value\n",
    "\n",
    "    def __len__(self):\n",
    "        return len(self.cards)\n",
    "    \n",
    "    def __add__(self, other):\n",
    "        new_deck = Deck()\n",
    "        new_deck.cards += other.cards\n",
    "        return new_deck\n",
    "    \n",
    "    def __repr__(self):\n",
    "        return f'{self.__dict__}'\n",
    "    \n",
    "    def __str__(self):\n",
    "        return f'Hi, this is your deck of cards {self.cards}'\n",
    "    \n",
    "    def __delitem__(self,key):\n",
    "       del self.cards[key]\n",
    "    \n",
    "deck = Deck()"
   ]
  },
  {
   "cell_type": "code",
   "execution_count": 41,
   "metadata": {},
   "outputs": [
    {
     "data": {
      "text/plain": [
       "'Hey'"
      ]
     },
     "execution_count": 41,
     "metadata": {},
     "output_type": "execute_result"
    }
   ],
   "source": [
    "deck[2] = \"Hey\"\n",
    "deck[2]"
   ]
  },
  {
   "cell_type": "markdown",
   "metadata": {},
   "source": [
    "### Ex1: Deck of cards\n",
    "Continue with the deck example and implement that\n",
    "\n",
    "* The deck should know how many cards it has by using the **len()** build in function.\n",
    "* You should be able to add 2 decks with the **+** oprator.\n",
    "* When the deck object is printed to the console a detailed representation of the objects state should be shown. (here you could also use the **repr()**)\n",
    "* When the deck object is printed throught the **print()** function a user friendly message about the object state should be displayed (here you could also use the str()).\n",
    "* You should be able to change a card with this syntax ```d[1] = 'Q'```    \n",
    "* You should be able to remove a card with this syntax ```del(d[1])```\n",
    "\n",
    "We look at this together in a short while.\n",
    "\n",
    "When you a done, take a look at the exercise below and ask your questions."
   ]
  },
  {
   "cell_type": "code",
   "execution_count": 89,
   "metadata": {},
   "outputs": [
    {
     "name": "stdout",
     "output_type": "stream",
     "text": [
      "Hi, this is your deck of cards ['A', 'K', 4, 7]\n",
      "Hi, this is your deck of cards ['A', 4, 7]\n"
     ]
    },
    {
     "data": {
      "text/plain": [
       "{'cards': ['A', 'K', 4, 7, 'A', 4, 7]}"
      ]
     },
     "execution_count": 89,
     "metadata": {},
     "output_type": "execute_result"
    }
   ],
   "source": [
    "len(deck)\n",
    "\n",
    "deck + deck\n",
    "\n",
    "deck\n",
    "\n",
    "print(deck)\n",
    "\n",
    "del(deck[1])\n",
    "print(deck)\n"
   ]
  },
  {
   "cell_type": "code",
   "execution_count": 77,
   "metadata": {},
   "outputs": [
    {
     "name": "stdout",
     "output_type": "stream",
     "text": [
      "Number(1, '(a+b)')\n",
      "Number(9, '(a-b)')\n",
      "Number(-20, '(a*b)')\n",
      "Number(-1.25, '(a/b)')\n"
     ]
    }
   ],
   "source": [
    "class Number:\n",
    "    def __init__(self, num, obj_name):\n",
    "        self.num = num\n",
    "        self.obj_name = obj_name\n",
    "\n",
    "    def __repr__(self):\n",
    "        return f\"Number({self.num}, '{self.obj_name}')\"\n",
    "\n",
    "    def __add__(self, other):\n",
    "        if isinstance(other, Number):\n",
    "            return Number(self.num + other.num, f\"({self.obj_name}+{other.obj_name})\")\n",
    "        else:\n",
    "            return Number(self.num + other, f\"({self.obj_name}+{other})\")\n",
    "\n",
    "    def __sub__(self, other):\n",
    "        if isinstance(other, Number):\n",
    "            return Number(self.num - other.num, f\"({self.obj_name}-{other.obj_name})\")\n",
    "        else:\n",
    "            return Number(self.num - other, f\"({self.obj_name}-{other})\")\n",
    "\n",
    "    def __mul__(self, other):\n",
    "        if isinstance(other, Number):\n",
    "            return Number(self.num * other.num, f\"({self.obj_name}*{other.obj_name})\")\n",
    "        else:\n",
    "            return Number(self.num * other, f\"({self.obj_name}*{other})\")\n",
    "\n",
    "    def __truediv__(self, other):\n",
    "        if isinstance(other, Number):\n",
    "            return Number(self.num / other.num, f\"({self.obj_name}/{other.obj_name})\")\n",
    "        else:\n",
    "            return Number(self.num / other, f\"({self.obj_name}/{other})\")\n",
    "\n",
    "# Example usage:\n",
    "a = Number(5, 'a')\n",
    "b = Number(-4, 'b')\n",
    "c = a + b\n",
    "d = a - b\n",
    "e = a * b\n",
    "f = a / b\n",
    "\n",
    "print(c)  # Output: Number(1, '(a+b)')\n",
    "print(d)  # Output: Number(9, '(a-b)')\n",
    "print(e)  # Output: Number(-20, '(a*b)')\n",
    "print(f)  # Output: Number(-1.25, '(a/b)')\n"
   ]
  },
  {
   "cell_type": "markdown",
   "metadata": {},
   "source": [
    "LinkedList"
   ]
  },
  {
   "cell_type": "code",
   "execution_count": 97,
   "metadata": {},
   "outputs": [
    {
     "ename": "RecursionError",
     "evalue": "maximum recursion depth exceeded",
     "output_type": "error",
     "traceback": [
      "\u001b[0;31m---------------------------------------------------------------------------\u001b[0m",
      "\u001b[0;31mRecursionError\u001b[0m                            Traceback (most recent call last)",
      "\u001b[1;32m/Users/frrt/VSCode/Python/fall2023-code-examples-from-teachings/ses9/datamodel.ipynb Cell 23\u001b[0m line \u001b[0;36m1\n\u001b[1;32m     <a href='vscode-notebook-cell:/Users/frrt/VSCode/Python/fall2023-code-examples-from-teachings/ses9/datamodel.ipynb#X31sZmlsZQ%3D%3D?line=13'>14</a>\u001b[0m llist\u001b[39m.\u001b[39mhead \u001b[39m=\u001b[39m Node(\u001b[39m'\u001b[39m\u001b[39mData of first Node\u001b[39m\u001b[39m'\u001b[39m)        \u001b[39m# head is a pointer to a Node with data off 'Data of First Node'\u001b[39;00m\n\u001b[1;32m     <a href='vscode-notebook-cell:/Users/frrt/VSCode/Python/fall2023-code-examples-from-teachings/ses9/datamodel.ipynb#X31sZmlsZQ%3D%3D?line=14'>15</a>\u001b[0m llist\u001b[39m.\u001b[39mhead\u001b[39m.\u001b[39mnext \u001b[39m=\u001b[39m Node(\u001b[39m'\u001b[39m\u001b[39mData of second Node\u001b[39m\u001b[39m'\u001b[39m) \u001b[39m# next belongs to 'Data of First Node' Node and points to 'Data of second Node' Node.\u001b[39;00m\n\u001b[0;32m---> <a href='vscode-notebook-cell:/Users/frrt/VSCode/Python/fall2023-code-examples-from-teachings/ses9/datamodel.ipynb#X31sZmlsZQ%3D%3D?line=16'>17</a>\u001b[0m \u001b[39mlen\u001b[39;49m(llist)\n",
      "\u001b[1;32m/Users/frrt/VSCode/Python/fall2023-code-examples-from-teachings/ses9/datamodel.ipynb Cell 23\u001b[0m line \u001b[0;36m1\n\u001b[1;32m     <a href='vscode-notebook-cell:/Users/frrt/VSCode/Python/fall2023-code-examples-from-teachings/ses9/datamodel.ipynb#X31sZmlsZQ%3D%3D?line=9'>10</a>\u001b[0m \u001b[39mdef\u001b[39;00m \u001b[39m__len__\u001b[39m(\u001b[39mself\u001b[39m):\n\u001b[0;32m---> <a href='vscode-notebook-cell:/Users/frrt/VSCode/Python/fall2023-code-examples-from-teachings/ses9/datamodel.ipynb#X31sZmlsZQ%3D%3D?line=10'>11</a>\u001b[0m        \u001b[39mreturn\u001b[39;00m \u001b[39mlen\u001b[39;49m(\u001b[39mself\u001b[39;49m)\n",
      "\u001b[1;32m/Users/frrt/VSCode/Python/fall2023-code-examples-from-teachings/ses9/datamodel.ipynb Cell 23\u001b[0m line \u001b[0;36m1\n\u001b[1;32m     <a href='vscode-notebook-cell:/Users/frrt/VSCode/Python/fall2023-code-examples-from-teachings/ses9/datamodel.ipynb#X31sZmlsZQ%3D%3D?line=9'>10</a>\u001b[0m \u001b[39mdef\u001b[39;00m \u001b[39m__len__\u001b[39m(\u001b[39mself\u001b[39m):\n\u001b[0;32m---> <a href='vscode-notebook-cell:/Users/frrt/VSCode/Python/fall2023-code-examples-from-teachings/ses9/datamodel.ipynb#X31sZmlsZQ%3D%3D?line=10'>11</a>\u001b[0m        \u001b[39mreturn\u001b[39;00m \u001b[39mlen\u001b[39;49m(\u001b[39mself\u001b[39;49m)\n",
      "    \u001b[0;31m[... skipping similar frames: LinkedList.__len__ at line 11 (2963 times)]\u001b[0m\n",
      "\u001b[1;32m/Users/frrt/VSCode/Python/fall2023-code-examples-from-teachings/ses9/datamodel.ipynb Cell 23\u001b[0m line \u001b[0;36m1\n\u001b[1;32m     <a href='vscode-notebook-cell:/Users/frrt/VSCode/Python/fall2023-code-examples-from-teachings/ses9/datamodel.ipynb#X31sZmlsZQ%3D%3D?line=9'>10</a>\u001b[0m \u001b[39mdef\u001b[39;00m \u001b[39m__len__\u001b[39m(\u001b[39mself\u001b[39m):\n\u001b[0;32m---> <a href='vscode-notebook-cell:/Users/frrt/VSCode/Python/fall2023-code-examples-from-teachings/ses9/datamodel.ipynb#X31sZmlsZQ%3D%3D?line=10'>11</a>\u001b[0m        \u001b[39mreturn\u001b[39;00m \u001b[39mlen\u001b[39m(\u001b[39mself\u001b[39m)\n",
      "\u001b[0;31mRecursionError\u001b[0m: maximum recursion depth exceeded"
     ]
    }
   ],
   "source": [
    "class Node:\n",
    "     def __init__(self, data):\n",
    "             self.data = data\n",
    "             self.next = None\n",
    "\n",
    "class LinkedList:\n",
    "        def __init__(self):\n",
    "             self.head = None\n",
    "\n",
    "        def __len__(self):\n",
    "               count = 0\n",
    "\n",
    "               return\n",
    "\n",
    "llist = LinkedList()\n",
    "llist.head = Node('Data of first Node')        # head is a pointer to a Node with data off 'Data of First Node'\n",
    "llist.head.next = Node('Data of second Node') # next belongs to 'Data of First Node' Node and points to 'Data of second Node' Node.\n",
    "\n",
    "len(llist)"
   ]
  }
 ],
 "metadata": {
  "kernelspec": {
   "display_name": ".venv",
   "language": "python",
   "name": "python3"
  },
  "language_info": {
   "codemirror_mode": {
    "name": "ipython",
    "version": 3
   },
   "file_extension": ".py",
   "mimetype": "text/x-python",
   "name": "python",
   "nbconvert_exporter": "python",
   "pygments_lexer": "ipython3",
   "version": "3.11.4"
  }
 },
 "nbformat": 4,
 "nbformat_minor": 2
}
